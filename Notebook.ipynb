{
 "cells": [
  {
   "cell_type": "markdown",
   "metadata": {},
   "source": [
    "# Quantum Inspired Genetic Algorithm For Credit Scoring Problem"
   ]
  },
  {
   "cell_type": "markdown",
   "metadata": {},
   "source": [
    "# To Do List\n",
    "* Create Diffrent Version Of Algorithm : Diffrent Crossover,Mutation and ...p\n",
    "* Add Feature Restriction(Crossover and Population should be modified.)\n",
    "* Add Feature Preprocessing\n",
    "* MinMaxScaler +\n",
    "* Change the k and get the result again\n",
    "* Neural network optimization\n",
    "    * Using Diffrent Optimizers\n",
    "    * Use Diffrent Architecture\n",
    "* Speed Up Convergence\n",
    "    * Manipulating Population Number & Generation Number\n",
    "    * If Population Fitness didn't changed after N generation, end it"
   ]
  },
  {
   "cell_type": "markdown",
   "metadata": {},
   "source": [
    "# Done So Far\n",
    "* All The Main Functions Implemented\n",
    "* all functions debugged\n",
    "* Whole Algorithm Implemented\n",
    "* MultiProcessing Added\n",
    "* Run Multipletimes and average them all"
   ]
  },
  {
   "cell_type": "markdown",
   "metadata": {},
   "source": [
    "## contents\n",
    "* Preconfiguration\n",
    "    * Importing Libraries\n",
    "    * Constants Decleration\n",
    "        * Genetic Algorithm Configurations\n",
    "        * Neural Network Configurations\n",
    "        * Reduced Features Announced By Credit Scorring Essay\n",
    "        * Datasets Path\n",
    "    * Tools Class Implementation\n",
    "    * Creating Types\n",
    "    * Qbit Class Implementation\n",
    "    * Reading Data\n",
    "    * Initialization\n",
    "    * Operators\n",
    "        * Converting To Bit\n",
    "        * Mutation\n",
    "        * Crossover\n",
    "        * Selection\n",
    "        * Rotation\n",
    "        * Catastroph\n",
    "        * Fitness Calculation\n",
    "        \n",
    "* Implementation\n",
    "    * Quantum Algorithm"
   ]
  },
  {
   "cell_type": "markdown",
   "metadata": {},
   "source": [
    "## Preconfiguration"
   ]
  },
  {
   "cell_type": "markdown",
   "metadata": {},
   "source": [
    "### Importing Libraries"
   ]
  },
  {
   "cell_type": "code",
   "execution_count": 27,
   "metadata": {},
   "outputs": [],
   "source": [
    "from __future__ import print_function\n",
    "import random\n",
    "import os\n",
    "import sys\n",
    "import copy\n",
    "import math\n",
    "import time\n",
    "import pickle\n",
    "import contextlib\n",
    "import numpy as np\n",
    "import pandas as pd\n",
    "import multiprocessing as mp\n",
    "from deap import tools\n",
    "from deap import base, creator\n",
    "from sklearn.cluster import KMeans\n",
    "from multiprocessing import Pool\n",
    "from six.moves.urllib.request import urlretrieve\n",
    "from keras.models import Sequential\n",
    "from keras.layers import Input, Dense, Activation\n",
    "from keras.optimizers import adam, SGD\n",
    "from keras.wrappers.scikit_learn import KerasClassifier\n",
    "from sklearn.model_selection import KFold, cross_val_score\n",
    "from sklearn.model_selection import StratifiedKFold, cross_val_score\n",
    "from sklearn.preprocessing import MinMaxScaler\n",
    "%matplotlib inline"
   ]
  },
  {
   "cell_type": "markdown",
   "metadata": {},
   "source": [
    "### Constants Decleration"
   ]
  },
  {
   "cell_type": "code",
   "execution_count": 28,
   "metadata": {},
   "outputs": [],
   "source": [
    "output_file = 'output'\n",
    "chromosome_file = 'chromosomes'\n",
    "# pop_size = 100\n",
    "# gen_num = 100 # it could be 300 too\n",
    "# n_max = 15\n",
    "# m_max = 25\n",
    "# pc = 0.9\n",
    "# pm = 0.01\n",
    "# pcc = (1 - pc) * random.random() + pc\n",
    "# pmm = (2*pm - pm) * random.random() + pm"
   ]
  },
  {
   "cell_type": "markdown",
   "metadata": {},
   "source": [
    "#### Reduced Features Announced By Credit Scorring Essay"
   ]
  },
  {
   "cell_type": "code",
   "execution_count": 50,
   "metadata": {},
   "outputs": [],
   "source": [
    "reduced_feature_config = {\n",
    "    'IG': [ 0,  1,  2,  6,  9, 10, 11, 19, 20, 21, 22, 24],\n",
    "    'gain_ratio': [ 0,  1,  2,  4,  9, 10, 19, 20, 21, 22, 24, 29],\n",
    "    'correlation': [ 0,  1,  2,  4,  6,  9, 10, 11, 19, 20, 22, 24],\n",
    "    'voting': [ 0,  1,  2,  9, 10, 19, 20, 22, 24],\n",
    "    'current_solution': [ 0,  1,  2,  3, 10, 12, 13, 14, 17, 19, 20, 27, 29]\n",
    "}\n",
    "reduced_feature_subset = []\n",
    "for key in reduced_feature_config : \n",
    "    reduced_feature_subset += reduced_feature_config[key]\n",
    "reduced_feature_subset_rank = {}\n",
    "for feature in reduced_feature_subset:\n",
    "    if feature in reduced_feature_subset_rank:\n",
    "        reduced_feature_subset_rank[feature] += 1\n",
    "    else :\n",
    "        reduced_feature_subset_rank[feature] = 1\n",
    "mask = np.zeros(30)\n",
    "for key in reduced_feature_subset_rank :\n",
    "    mask[key] = reduced_feature_subset_rank[key]\n",
    "reduced_feature_subset = sorted(list(set(reduced_feature_subset)))\n",
    "mask += 1"
   ]
  },
  {
   "cell_type": "markdown",
   "metadata": {},
   "source": [
    "#### Genetic Algorithm Configurations`"
   ]
  },
  {
   "cell_type": "code",
   "execution_count": 52,
   "metadata": {},
   "outputs": [],
   "source": [
    "pc = 0.9\n",
    "pm = 0.01\n",
    "genetic_config = { \n",
    "    'max_feature_num': 12,\n",
    "    'min_feature_num': 5,\n",
    "    'pop_size': 100,\n",
    "    'iter_num': 100,\n",
    "    'n_max': 15,\n",
    "    'm_max': 25,\n",
    "    'pm': 0.01,\n",
    "    'pc': 0.9,\n",
    "    'pmm': (2*pm - pm) * random.random() + pm,\n",
    "    'pcc': (1 - pc) * random.random() + pc,\n",
    "    'mask_best_num':1,\n",
    "    'mask_evapuration_rate':.1,\n",
    "    'mask_update_rate':.5,\n",
    "    'epsilon':1,\n",
    "    'chrom_mask': mask\n",
    "#     'crossover' : '',\n",
    "#     'mutation' : '',\n",
    "#     'rotation' : True,\n",
    "}"
   ]
  },
  {
   "cell_type": "markdown",
   "metadata": {},
   "source": [
    "#### Neural Network Configurations"
   ]
  },
  {
   "cell_type": "code",
   "execution_count": 53,
   "metadata": {},
   "outputs": [
    {
     "name": "stdout",
     "output_type": "stream",
     "text": [
      "{'m': 0.7, 'train_cycles': 600, 'lr': 0.3}\n"
     ]
    }
   ],
   "source": [
    "nn_config = {\n",
    "    # 'lr': np.random.uniform(0.3, 1.0),\n",
    "    # 'train_cycles': np.random.uniform(300, 600),\n",
    "    # 'm': np.random.uniform(0.2, 0.7)\n",
    "    'm':.7,\n",
    "    'train_cycles':600,\n",
    "    'lr': .3\n",
    "}\n",
    "print(nn_config)"
   ]
  },
  {
   "cell_type": "markdown",
   "metadata": {},
   "source": [
    "#### Datasets Path"
   ]
  },
  {
   "cell_type": "code",
   "execution_count": 9,
   "metadata": {},
   "outputs": [],
   "source": [
    "data_root = 'data'\n",
    "german_data = os.path.join(data_root,'GermanCreditInput.xls')\n",
    "german_label = os.path.join(data_root,'GermanCreditOutputClass1columnknn.xls')\n",
    "australian_dataset = os.path.join(data_root,'australian dataset.xlsx')"
   ]
  },
  {
   "cell_type": "markdown",
   "metadata": {},
   "source": [
    "### Tools Class Implementation"
   ]
  },
  {
   "cell_type": "code",
   "execution_count": 10,
   "metadata": {},
   "outputs": [],
   "source": [
    "class Tools :\n",
    "    \n",
    "    data_root = ''\n",
    "    root_url = ''\n",
    "    chromosomes = {}\n",
    "    \n",
    "    @staticmethod\n",
    "    def download_progress_hook(count, blockSize, totalSize):\n",
    "        \"\"\"A hook to report the progress of a download. This is mostly intended for users with\n",
    "        slow internet connections. Reports every 5% change in download progress.\"\"\"\n",
    "        global last_percent_reported\n",
    "        percent = int(count * blockSize * 100 / totalSize)\n",
    "\n",
    "        if last_percent_reported != percent:\n",
    "            if percent % 5 == 0:\n",
    "                sys.stdout.write(\"%s%%\" % percent)\n",
    "                sys.stdout.flush()\n",
    "            else:\n",
    "                sys.stdout.write(\".\")\n",
    "                sys.stdout.flush()\n",
    "            last_percent_reported = percent\n",
    "    \n",
    "    @staticmethod\n",
    "    def read_df(filename, expected_bytes=None, force=False):\n",
    "        \"\"\"Download a file if not present, and make sure it's the right size.\"\"\"\n",
    "        dest_filename = os.path.join(Tools.data_root, filename)\n",
    "        direc = dest_filename[:dest_filename.rfind('/')]\n",
    "        if not os.path.exists(direc):\n",
    "            os.makedirs(direc)\n",
    "        if force or not os.path.exists(dest_filename):\n",
    "            print('Attempting to download:', filename) \n",
    "            filename, _ = urlretrieve(Tools.root_url + filename, dest_filename, reporthook=Tools.download_progress_hook)\n",
    "            print('\\nDownload Complete!')        \n",
    "        return np.array(pd.read_csv(filename, header=None))\n",
    "    \n",
    "    @staticmethod\n",
    "    def keras_model(input_dim,hiddenNum=40,lr=.1,m=.5) :\n",
    "        model = Sequential()\n",
    "        model.add(Dense(hiddenNum, input_dim=input_dim, kernel_initializer='normal', activation='sigmoid'))\n",
    "        model.add(Dense(1, kernel_initializer='normal', activation='sigmoid'))\n",
    "        sgd = SGD(lr=lr, momentum=m)\n",
    "        # loss could be \"mse\" too\n",
    "        model.compile(loss='binary_crossentropy',metrics=['accuracy','binary_accuracy'],optimizer=sgd)\n",
    "        return lambda: model\n",
    "    \n",
    "    @staticmethod\n",
    "    def save_to_file(path,data) :\n",
    "        with open(path + '.pkl', 'wb') as f:\n",
    "            pickle.dump(data, f, pickle.HIGHEST_PROTOCOL)\n",
    "\n",
    "    @staticmethod    \n",
    "    def load_from_file(path) :\n",
    "        with open(path + '.pkl', 'rb') as f:\n",
    "            return pickle.load(f)"
   ]
  },
  {
   "cell_type": "markdown",
   "metadata": {},
   "source": [
    "### Creating Types"
   ]
  },
  {
   "cell_type": "code",
   "execution_count": 11,
   "metadata": {},
   "outputs": [],
   "source": [
    "creator.create(\"FitnessMax\", base.Fitness, weights=(1.0,))\n",
    "creator.create(\"Individual\", list, fitness=creator.FitnessMax)"
   ]
  },
  {
   "cell_type": "markdown",
   "metadata": {},
   "source": [
    "### Qbit Class Implementation"
   ]
  },
  {
   "cell_type": "code",
   "execution_count": 12,
   "metadata": {},
   "outputs": [],
   "source": [
    "class Qbit :\n",
    "    def __init__(self) :\n",
    "        self.a = random.random()\n",
    "        self.b = np.sqrt(1 - self.a**2)\n",
    "        self.bit = None\n",
    "    \n",
    "    def __str__(self) :\n",
    "        return '({}, {})'.format(self.a,self.b)"
   ]
  },
  {
   "cell_type": "markdown",
   "metadata": {},
   "source": [
    "### Reading German Dataset"
   ]
  },
  {
   "cell_type": "code",
   "execution_count": 13,
   "metadata": {},
   "outputs": [
    {
     "name": "stdout",
     "output_type": "stream",
     "text": [
      "Dataset Shape : (1000, 30)\n",
      "Dataset Labels Shape : (1000, 1)\n"
     ]
    }
   ],
   "source": [
    "x_data = np.array(pd.read_excel(german_data,header=None))\n",
    "y_data = np.array(pd.read_excel(german_label,header=None))\n",
    "print('Dataset Shape : {}\\nDataset Labels Shape : {}'.format(x_data.shape,y_data.shape))"
   ]
  },
  {
   "cell_type": "markdown",
   "metadata": {},
   "source": [
    "### Initialization"
   ]
  },
  {
   "cell_type": "code",
   "execution_count": 14,
   "metadata": {},
   "outputs": [],
   "source": [
    "toolbox = base.Toolbox()\n",
    "toolbox.register(\"attribute\", Qbit)\n",
    "toolbox.register(\"individual\", tools.initRepeat, creator.Individual,\n",
    "                 toolbox.attribute, n=x_data.shape[1]) # Length of each chromosome : Number of Features of Dataset\n",
    "toolbox.register(\"population\", tools.initRepeat, list, toolbox.individual)"
   ]
  },
  {
   "cell_type": "markdown",
   "metadata": {},
   "source": [
    "### Operators Implementation "
   ]
  },
  {
   "cell_type": "markdown",
   "metadata": {},
   "source": [
    "#### Converting To Bit"
   ]
  },
  {
   "cell_type": "code",
   "execution_count": 15,
   "metadata": {},
   "outputs": [],
   "source": [
    "def toBit(ind) :\n",
    "    \"transform qbit to zero or one\"\n",
    "    for qb in ind :\n",
    "        if np.random.random() < qb.a**2 :\n",
    "            qb.bit = 0\n",
    "        else :\n",
    "            qb.bit = 1\n",
    "    return ind\n",
    "toolbox.register(\"toBit\",toBit)"
   ]
  },
  {
   "cell_type": "markdown",
   "metadata": {},
   "source": [
    "#### Mutation"
   ]
  },
  {
   "cell_type": "code",
   "execution_count": 42,
   "metadata": {},
   "outputs": [],
   "source": [
    "def mutate(ind) :\n",
    "    rnd = np.random.randint(len(ind))\n",
    "    ind[rnd].a,ind[rnd].b = ind[rnd].b,ind[rnd].a\n",
    "    return ind\n",
    "toolbox.register(\"mutate\", mutate)"
   ]
  },
  {
   "cell_type": "markdown",
   "metadata": {},
   "source": [
    "#### Crossover"
   ]
  },
  {
   "cell_type": "code",
   "execution_count": 17,
   "metadata": {},
   "outputs": [],
   "source": [
    "toolbox.register(\"mate\", tools.cxTwoPoint)"
   ]
  },
  {
   "cell_type": "markdown",
   "metadata": {},
   "source": [
    "#### Rotation"
   ]
  },
  {
   "cell_type": "code",
   "execution_count": 18,
   "metadata": {},
   "outputs": [],
   "source": [
    "def rotate(ind,b_ind,isGreater) :\n",
    "    for qb,b_qb in zip(ind,b_ind) :\n",
    "        dt = 0\n",
    "        sign = 0\n",
    "        ri = qb.bit\n",
    "        bi = b_qb.bit\n",
    "        positive = qb.a * qb.b > 0\n",
    "        aZero = not qb.a\n",
    "        bZero = not qb.b\n",
    "        # initializing angle and sign of rotation \n",
    "        if(isGreater) :\n",
    "            if not ri and bi :\n",
    "                dt = np.pi * .05\n",
    "                if aZero :\n",
    "                    sign = 1\n",
    "                elif bZero :\n",
    "                    sign = 0\n",
    "                elif positive :\n",
    "                    sign = -1\n",
    "                else :\n",
    "                    sign = 1\n",
    "            elif ri and not bi :\n",
    "                dt = np.pi * .025\n",
    "                if aZero :\n",
    "                    sign = 0\n",
    "                elif bZero :\n",
    "                    sign = 1\n",
    "                elif positive :\n",
    "                    sign = 1\n",
    "                else :\n",
    "                    sign = -1\n",
    "            elif ri and bi :\n",
    "                dt = np.pi * .025\n",
    "                if aZero :\n",
    "                    sign = 0\n",
    "                elif bZero :\n",
    "                    sign = 1\n",
    "                elif positive :\n",
    "                    sign = 1\n",
    "                else :\n",
    "                    sign = -1\n",
    "        else :\n",
    "            if ri and not bi :\n",
    "                dt = np.pi * .01\n",
    "                if aZero :\n",
    "                    sign = 1\n",
    "                elif bZero :\n",
    "                    sign = 0\n",
    "                elif positive :\n",
    "                    sign = -1\n",
    "                else :\n",
    "                    sign = 1\n",
    "            elif ri and bi :\n",
    "                dt = np.pi * .005\n",
    "                if aZero :\n",
    "                    sign = 0\n",
    "                elif bZero :\n",
    "                    sign = 1\n",
    "                elif positive :\n",
    "                    sign = 1\n",
    "                else :\n",
    "                    sign = -1\n",
    "\n",
    "        t = sign * dt\n",
    "        qb.a,qb.b = np.dot(\n",
    "            np.array([[np.cos(t),-np.sin(t)],[np.sin(t),np.cos(t)]]),np.array([qb.a,qb.b])\n",
    "        )\n",
    "toolbox.register(\"rotate\", rotate)"
   ]
  },
  {
   "cell_type": "markdown",
   "metadata": {},
   "source": [
    "#### Fitness Calculation"
   ]
  },
  {
   "cell_type": "code",
   "execution_count": 36,
   "metadata": {},
   "outputs": [],
   "source": [
    "def evaluate(ind,X,Y,train_cycles=600,lr=.3,m=.7) :\n",
    "    \"\"\"Train one layer feedforward neural network\n",
    "    Args :\n",
    "       X : training data\n",
    "       Y : training label\n",
    "       hiddenNum : number of hidden units of hidden layer\n",
    "       trainCycles : number of training cycles\n",
    "       lr : learning rate of nueral network\n",
    "       m: momentum of neural network\n",
    "    Returns :\n",
    "       'float' accuracy\n",
    "    \"\"\"\n",
    "    \n",
    "    sel_features = np.array(ind)\n",
    "    hiddenNum = len(sel_features) + np.sum(sel_features)\n",
    "    string_arr = ''.join(map(str, 1*sel_features))\n",
    "    sum_val_acc = 0\n",
    "    p_X = X[:,sel_features==1]\n",
    "    if string_arr not in Tools.chromosomes :\n",
    "        for train_index, test_index in skf.split(X, Y):\n",
    "            model = Tools.keras_model(np.sum(sel_features),int(hiddenNum),lr,m)\n",
    "            hist = model.fit(p_X[train_index,:],Y[train_index,:], epochs=int(train_cycles),batch_size=int(X.shape[0]),verbose=0)\n",
    "            ev = model.evaluate(p_X[test_index,:],Y[test_index,:],verbose=0)\n",
    "            sum_val_acc += ev[1]\n",
    "            del model\n",
    "        \n",
    "        Tools.chromosomes[string_arr] = sum_val_acc/10\n",
    "\n",
    "    return (Tools.chromosomes[string_arr],)\n",
    "\n",
    "toolbox.register(\"evaluate\", evaluate,X=x_data,Y=y_data,**nn_config)"
   ]
  },
  {
   "cell_type": "markdown",
   "metadata": {},
   "source": [
    "#### Selection"
   ]
  },
  {
   "cell_type": "code",
   "execution_count": 20,
   "metadata": {},
   "outputs": [],
   "source": [
    "def select(pop,pop_size) :    \n",
    "    # Roulette selection\n",
    "    offsprings = list(map(toolbox.clone,tools.selRoulette(pop,pop_size)))\n",
    "    # Elite selection\n",
    "    max_os_fit = np.max([ind.fitness.values[0] for ind in offsprings])\n",
    "    max_pop_fit = np.max([ind.fitness.values[0] for ind in pop])\n",
    "    replace_choices = list(range(pop_size))\n",
    "    \n",
    "    if max_pop_fit > max_os_fit :\n",
    "        for ind in sorted(pop, key=lambda x: x.fitness.values[0],reverse=True) :\n",
    "            if ind.fitness.values[0] > max_os_fit :\n",
    "                choice = np.random.choice(replace_choices)\n",
    "                offsprings[choice] = toolbox.clone(ind)\n",
    "                replace_choices.remove(choice) # To Stop replacing the best ones that we already replaced\n",
    "            else :\n",
    "                break;\n",
    "                \n",
    "    return offsprings \n",
    "\n",
    "toolbox.register(\"select\", select, pop_size=genetic_config['pop_size'])"
   ]
  },
  {
   "cell_type": "code",
   "execution_count": 21,
   "metadata": {},
   "outputs": [],
   "source": [
    "# pop = toolbox.population(n=4)\n",
    "# CXPB, MUTPB, NGEN = 0.5, 0.2, 40\n",
    "# best_ind = None\n",
    "# # Evaluate the entire population\n",
    "# for ind in pop:\n",
    "#     toolbox.toBit(ind)\n",
    "#     ind.fitness.values = toolbox.evaluate(ind)\n",
    "#     if not best_ind or best_ind.fitness.values[0] < ind.fitness.values[0] :\n",
    "#         best_ind = ind\n",
    "        \n",
    "# offspring = toolbox.select(pop)\n",
    "# for qb in offspring[0] :\n",
    "#     print(qb)\n",
    "# toolbox.rotate(offspring[0],best_ind,offspring[0].fitness.values[0] < best_ind.fitness.values[0])\n",
    "# print('-------------------------')\n",
    "# for qb in offspring[0] :\n",
    "#     print(qb)"
   ]
  },
  {
   "cell_type": "markdown",
   "metadata": {},
   "source": [
    "#### Catastroph"
   ]
  },
  {
   "cell_type": "code",
   "execution_count": 22,
   "metadata": {},
   "outputs": [],
   "source": [
    "def catastrophe(best_ind,pop_size) :\n",
    "    pop = toolbox.population(n=pop_size)\n",
    "    pop[np.random.randint(0,pop_size)] = toolbox.clone(best_ind)\n",
    "    return pop\n",
    "toolbox.register(\"catastrophe\", catastrophe, pop_size=genetic_config['pop_size'])"
   ]
  },
  {
   "cell_type": "markdown",
   "metadata": {},
   "source": [
    "## Implementation"
   ]
  },
  {
   "cell_type": "markdown",
   "metadata": {},
   "source": [
    "### Quantum Algorithm"
   ]
  },
  {
   "cell_type": "code",
   "execution_count": 2,
   "metadata": {},
   "outputs": [],
   "source": [
    "def main(pop_size,iter_num,n_max,m_max,\n",
    "        max_feature_num,min_feature_num,\n",
    "        pm,pc,pmm,pcc):\n",
    "    \n",
    "    best_fits = np.array([])\n",
    "    best_same_iter = 0\n",
    "    best_ind = None\n",
    "    current_best_ind = None\n",
    "    \n",
    "    pop = toolbox.population(n=pop_size)\n",
    "    \n",
    "    # Evaluate the entire population\n",
    "    for i,ind in enumerate(pop):\n",
    "        print('%{}'.format(float(i)/pop_size))\n",
    "        toolbox.toBit(ind)\n",
    "        ind.fitness.values = toolbox.evaluate(ind)\n",
    "        if not best_ind or best_ind.fitness.values[0] < ind.fitness.values[0] :\n",
    "            best_ind = ind\n",
    "            current_best_ind = ind\n",
    "    best_fits = np.append(best_fits,best_ind.fitness.values[0])\n",
    "        \n",
    "    for generation in range(1,iter_num) :   \n",
    "        print('--------------------generation : {} ------------------'.format(generation))\n",
    "        print('best fitness : {}'.format(best_ind.fitness.values[0]))\n",
    "        print('best current fit : {}'.format(current_best_ind.fitness.values[0]))\n",
    "        if best_same_iter < n_max :\n",
    "            offspring = toolbox.select(pop)\n",
    "            \n",
    "            # Apply crossover on the offspring\n",
    "            for child1, child2 in zip(offspring[::2], offspring[1::2]):\n",
    "                if random.random() < pc:\n",
    "                    toolbox.mate(child1, child2)\n",
    "                    del child1.fitness.values\n",
    "                    del child2.fitness.values\n",
    "                    \n",
    "            # Apply mutation on the offspring      \n",
    "            for mutant in offspring:\n",
    "                if random.random() < pm:\n",
    "                    toolbox.mutate(mutant)\n",
    "                    del mutant.fitness.values\n",
    "\n",
    "            # Evaluate Individual \n",
    "            current_best_ind = None\n",
    "            for i,ind in enumerate(offspring):\n",
    "                print('%{}'.format(float(i)/pop_size))\n",
    "                toolbox.toBit(ind)\n",
    "                ind.fitness.values = toolbox.evaluate(ind)\n",
    "                if not current_best_ind or current_best_ind.fitness.values[0] < ind.fitness.values[0] :\n",
    "                    current_best_ind = ind\n",
    "            \n",
    "            if current_best_ind.fitness.values[0] > best_ind.fitness.values[0] :\n",
    "                best_ind = toolbox.clone(current_best_ind)\n",
    "                best_same_iter = 0\n",
    "            if best_same_iter < m_max :\n",
    "                for ind in offspring :\n",
    "                    toolbox.rotate(ind,best_ind,best_ind.fitness.values[0] > ind.fitness.values[0])\n",
    "            else :\n",
    "                offspring[:] = toolbox.catastrophe(best_ind)\n",
    "                best_same_iter = 0\n",
    "        else :\n",
    "            offspring = toolbox.select(pop)\n",
    "\n",
    "            # Apply crossover on the offspring\n",
    "            for child1, child2 in zip(offspring[::2], offspring[1::2]):\n",
    "                if random.random() < pcc:\n",
    "                    toolbox.mate(child1, child2)\n",
    "                    del child1.fitness.values\n",
    "                    del child2.fitness.values\n",
    "\n",
    "            # Apply mutation on the offspring      \n",
    "            for mutant in offspring:\n",
    "                if random.random() < pmm:\n",
    "                    toolbox.mutate(mutant)\n",
    "                    del mutant.fitness.values\n",
    "\n",
    "            # Evaluate Individual \n",
    "            current_best_ind = None\n",
    "            for ind in offspring:\n",
    "                toolbox.toBit(ind)\n",
    "                ind.fitness.values = toolbox.evaluate(ind)\n",
    "                if not current_best_ind or current_best_ind.fitness.values[0] < ind.fitness.values[0] :\n",
    "                    current_best_ind = ind\n",
    "\n",
    "            if current_best_ind.fitness.values[0] > best_ind.fitness.values[0] :\n",
    "                best_ind = toolbox.clone(current_best_ind)\n",
    "                best_same_iter = 0\n",
    "            if best_same_iter < m_max :\n",
    "                for ind in offspring :\n",
    "                    toolbox.rotate(ind,best_ind,best_ind.fitness.values[0] > ind.fitness.values[0])\n",
    "            else :\n",
    "                offspring[:] = toolbox.catastrophe(best_ind)\n",
    "                best_same_iter = 0\n",
    "                \n",
    "        pop[:] = offspring\n",
    "        # Evaluate Individual \n",
    "        current_best_ind = None\n",
    "        for i,ind in enumerate(offspring):\n",
    "            print('%{}'.format(float(i)/pop_size))\n",
    "            toolbox.toBit(ind)\n",
    "            ind.fitness.values = toolbox.evaluate(ind)\n",
    "            if not current_best_ind or current_best_ind.fitness.values[0] < ind.fitness.values[0] :\n",
    "                current_best_ind = ind\n",
    "            \n",
    "        best_fits = np.append(best_fits,current_best_ind.fitness.values[0])\n",
    "        if current_best_ind.fitness.values[0] > best_ind.fitness.values[0] :\n",
    "            best_ind = toolbox.clone(current_best_ind)\n",
    "            best_same_iter = 0\n",
    "        else :\n",
    "            best_same_iter += 1\n",
    "    return best_fits,best_ind"
   ]
  },
  {
   "cell_type": "code",
   "execution_count": null,
   "metadata": {},
   "outputs": [],
   "source": [
    "if __name__ == '__main__' :\n",
    "    multiprocess_main(**genetic_config)"
   ]
  },
  {
   "cell_type": "code",
   "execution_count": 30,
   "metadata": {},
   "outputs": [],
   "source": [
    "def mask_update(mask,best_ind,update_rate=.5,evapuration_rate=.1,inline=True) :\n",
    "    for i in range(len(mask)) :\n",
    "        mask[i] *= (1-evapuration_rate)\n",
    "        mask[i] += best_ind[i].bit*update_rate"
   ]
  },
  {
   "cell_type": "code",
   "execution_count": 29,
   "metadata": {},
   "outputs": [],
   "source": [
    "def mask_collapse(mask,epsilon=1) :\n",
    "    collapsed_mask = np.ndarray(len(mask))\n",
    "    max_val = max(mask) +epsilon\n",
    "    for i in range(len(mask)) :\n",
    "        collapsed_mask[i] = 1 if np.random.random() < mask[i]/max_val else 0\n",
    "    return collapsed_mask"
   ]
  },
  {
   "cell_type": "code",
   "execution_count": null,
   "metadata": {},
   "outputs": [],
   "source": [
    "def evaluate_pop(pop,multiprocessing=True,workers=20) :\n",
    "    with contextlib.closing(Pool(processes=25)) as pool:\n",
    "        fitnesses = pool.map_async(toolbox.evaluate, (ind for ind in pop))\n",
    "        fitnesses = fitnesses.get()\n",
    "    for ind,fitness in zip(pop,fitnesses):\n",
    "        ind.fitness.values = fitness\n",
    "        if not best_ind or best_ind.fitness.values[0] < ind.fitness.values[0] :\n",
    "            best_ind = ind\n",
    "            current_best_ind = ind"
   ]
  },
  {
   "cell_type": "markdown",
   "metadata": {},
   "source": [
    "## Quantum MultiProcess Algorithm"
   ]
  },
  {
   "cell_type": "code",
   "execution_count": 1,
   "metadata": {},
   "outputs": [],
   "source": [
    "def multiprocess_main(pop_size,iter_num,n_max,m_max,\n",
    "                    max_feature_num,min_feature_num,\n",
    "                    pm,pc,pmm,pcc,chrom_mask,mask_best_num=1,\n",
    "                    mask_evapuration_rate=.1,mask_update_rate=.5,\n",
    "                    epsilon=1):\n",
    "    \n",
    "    best_fits = np.array([])\n",
    "    best_same_iter = 0\n",
    "    best_ind = None\n",
    "    current_best_ind = None\n",
    "    mask = copy.deepcopy(chrom_mask)\n",
    "    \n",
    "    pop = toolbox.population(n=pop_size)\n",
    "    \n",
    "    # Callapse Mask\n",
    "    collapsed_mask = mask_collapse(mask,epsilon)\n",
    "    # Collapsing Individual Bits\n",
    "    for i,ind in enumerate(pop):\n",
    "        toolbox.toBit(ind)\n",
    "    # Masking Individual Bit Values\n",
    "    masked_pop = [[qb.bit and bit for qb in zip(ind,collapsed_mask)] for ind in pop]\n",
    "    # Calculating Fitness Of Individuals In Parallel\n",
    "    with contextlib.closing(Pool(processes=25)) as pool:\n",
    "        fitnesses = pool.map_async(toolbox.evaluate, (ind for ind in masked_pop))\n",
    "        fitnesses = fitnesses.get()\n",
    "    for ind,fitness in zip(pop,fitnesses):\n",
    "        ind.fitness.values = fitness\n",
    "        if not best_ind or best_ind.fitness.values[0] < ind.fitness.values[0] :\n",
    "            best_ind = ind\n",
    "            current_best_ind = ind\n",
    "    # Updating And Evapurating Mask Values\n",
    "    mask_update(mask,best_ind,mask_evapuration_rate=.1,mask_update_rate=.5)\n",
    "    best_fits = np.append(best_fits,best_ind.fitness.values[0])\n",
    "    \n",
    "    \n",
    "    for generation in range(1,iter_num) :   \n",
    "        print('--------------------generation : {} ------------------'.format(generation))\n",
    "        print('best fitness : {}'.format(best_ind.fitness.values[0]))\n",
    "        print('best current fit : {}'.format(current_best_ind.fitness.values[0]))\n",
    "        if best_same_iter < n_max :\n",
    "            offspring = toolbox.select(pop)\n",
    "            \n",
    "            # Apply crossover on the offspring\n",
    "            for child1, child2 in zip(offspring[::2], offspring[1::2]):\n",
    "                if random.random() < pc:\n",
    "                    toolbox.mate(child1, child2)\n",
    "                    del child1.fitness.values\n",
    "                    del child2.fitness.values\n",
    "                    \n",
    "            # Apply mutation on the offspring      \n",
    "            for mutant in offspring:\n",
    "                if random.random() < pm:\n",
    "                    toolbox.mutate(mutant)\n",
    "                    del mutant.fitness.values\n",
    "\n",
    "            \n",
    "            start = time.time()\n",
    "            current_best_ind = None\n",
    "            # Callapse Mask\n",
    "            collapsed_mask = mask_collapse(mask,epsilon)\n",
    "            # Collapsing Individual Bits\n",
    "            for i,ind in enumerate(pop):\n",
    "                toolbox.toBit(ind)\n",
    "            # Masking Individual Bit Values\n",
    "            masked_offspring = [[qb.bit and bit for qb in zip(ind,collapsed_mask)] for ind in offspring]\n",
    "            # Calculating Fitness Of Individuals In Parallel\n",
    "            with contextlib.closing(Pool(processes=20)) as pool:\n",
    "                fitnesses = pool.map_async(toolbox.evaluate, (ind for ind in masked_offspring))\n",
    "                fitnesses = fitnesses.get()\n",
    "                \n",
    "            for ind,fitness in zip(offspring,fitnesses):\n",
    "                ind.fitness.values = fitness\n",
    "                if not current_best_ind or current_best_ind.fitness.values[0] < ind.fitness.values[0] :\n",
    "                    current_best_ind = ind\n",
    "            # Updating And Evapurating Mask Values\n",
    "            mask_update(mask,best_ind,mask_evapuration_rate=.1,mask_update_rate=.5)\n",
    "            print('First Evaluation Time : {}'.format(time.time() - start))\n",
    "            if current_best_ind.fitness.values[0] > best_ind.fitness.values[0] :\n",
    "                best_ind = toolbox.clone(current_best_ind)\n",
    "                best_same_iter = 0\n",
    "            if best_same_iter < m_max :\n",
    "                for ind in offspring :\n",
    "                    toolbox.rotate(ind,best_ind,best_ind.fitness.values[0] > ind.fitness.values[0])\n",
    "            else :\n",
    "                offspring[:] = toolbox.catastrophe(best_ind)\n",
    "                best_same_iter = 0\n",
    "        else :\n",
    "            offspring = toolbox.select(pop)\n",
    "\n",
    "            # Apply crossover on the offspring\n",
    "            for child1, child2 in zip(offspring[::2], offspring[1::2]):\n",
    "                if random.random() < pcc:\n",
    "                    toolbox.mate(child1, child2)\n",
    "                    del child1.fitness.values\n",
    "                    del child2.fitness.values\n",
    "\n",
    "            # Apply mutation on the offspring      \n",
    "            for mutant in offspring:\n",
    "                if random.random() < pmm:\n",
    "                    toolbox.mutate(mutant)\n",
    "                    del mutant.fitness.values\n",
    "            \n",
    "            start = time.time()\n",
    "            current_best_ind = None\n",
    "            # Callapse Mask\n",
    "            collapsed_mask = mask_collapse(mask,epsilon)\n",
    "            # Collapsing Individual Bits\n",
    "            for i,ind in enumerate(pop):\n",
    "                toolbox.toBit(ind)\n",
    "            # Masking Individual Bit Values\n",
    "            masked_offspring = [[qb.bit and bit for qb in zip(ind,collapsed_mask)] for ind in offspring]\n",
    "            # Calculating Fitness Of Individuals In Parallel\n",
    "            with contextlib.closing(Pool(processes=20)) as pool:\n",
    "                fitnesses = pool.map_async(toolbox.evaluate, (ind for ind in masked_offspring))\n",
    "                fitnesses = fitnesses.get()\n",
    "                \n",
    "            for ind,fitness in zip(offspring,fitnesses):\n",
    "                ind.fitness.values = fitness\n",
    "                if not current_best_ind or current_best_ind.fitness.values[0] < ind.fitness.values[0] :\n",
    "                    current_best_ind = ind\n",
    "            # Updating And Evapurating Mask Values\n",
    "            mask_update(mask,best_ind,mask_evapuration_rate=.1,mask_update_rate=.5)\n",
    "            print('First Evaluation Time : {}'.format(time.time() - start))\n",
    "            if current_best_ind.fitness.values[0] > best_ind.fitness.values[0] :\n",
    "                best_ind = toolbox.clone(current_best_ind)\n",
    "                best_same_iter = 0\n",
    "            if best_same_iter < m_max :\n",
    "                for ind in offspring :\n",
    "                    toolbox.rotate(ind,best_ind,best_ind.fitness.values[0] > ind.fitness.values[0])\n",
    "            else :\n",
    "                offspring[:] = toolbox.catastrophe(best_ind)\n",
    "                best_same_iter = 0\n",
    "                \n",
    "        pop[:] = offspring\n",
    "\n",
    "        # Evaluate Individual \n",
    "        start = time.time()\n",
    "        current_best_ind = None\n",
    "        # Callapse Mask\n",
    "        collapsed_mask = mask_collapse(mask,epsilon)\n",
    "        # Collapsing Individual Bits\n",
    "        for i,ind in enumerate(pop):\n",
    "            toolbox.toBit(ind)\n",
    "        # Masking Individual Bit Values\n",
    "        masked_pop = [[qb.bit and bit for qb in zip(ind,collapsed_mask)] for ind in pop]\n",
    "\n",
    "        with contextlib.closing(Pool(processes=20)) as pool:\n",
    "            fitnesses = pool.map_async(toolbox.evaluate, (ind for ind in masked_pop))\n",
    "            fitnesses = fitnesses.get()\n",
    "        print(fitnesses)\n",
    "        for ind,fitness in zip(pop,fitnesses):\n",
    "            ind.fitness.values = fitness\n",
    "            if not current_best_ind or current_best_ind.fitness.values[0] < ind.fitness.values[0] :\n",
    "                current_best_ind = ind\n",
    "        # Updating And Evapurating Mask Values\n",
    "        mask_update(mask,best_ind,mask_evapuration_rate=.1,mask_update_rate=.5)\n",
    "        print('Second Evaluation Time : {}'.format(time.time() - start))    \n",
    "        best_fits = np.append(best_fits,current_best_ind.fitness.values[0])\n",
    "        if current_best_ind.fitness.values[0] > best_ind.fitness.values[0] :\n",
    "            best_ind = toolbox.clone(current_best_ind)\n",
    "            best_same_iter = 0\n",
    "        else :\n",
    "            best_same_iter += 1\n",
    "    return best_fits,best_ind"
   ]
  },
  {
   "cell_type": "code",
   "execution_count": null,
   "metadata": {},
   "outputs": [],
   "source": [
    "def multiple_run(genetic_config,number_of_run=10) :\n",
    "    if os.path.exists(chromosome_file+'.pkl') :\n",
    "        Tools.chromosomes = Tools.load_from_file(chromosome_file)\n",
    "    out = [None for _ in range(number_of_run)]\n",
    "    for i in range(number_of_run) :\n",
    "        out[i] = multiprocess_main(**genetic_config)\n",
    "        print('{} run ended with fitness : {} '.format(i,out[i]))\n",
    "        Tools.save_to_file('{}({})'.format(output_file,i),out[i])\n",
    "    return np.average([o[1].fitness.values[0] for o in out]) "
   ]
  },
  {
   "cell_type": "code",
   "execution_count": null,
   "metadata": {},
   "outputs": [
    {
     "name": "stdout",
     "output_type": "stream",
     "text": [
      "%0.0\n",
      "%0.01\n",
      "%0.02\n",
      "%0.03\n",
      "%0.04\n",
      "%0.05\n",
      "%0.06\n",
      "%0.07\n",
      "%0.08\n",
      "%0.09\n",
      "%0.1\n",
      "%0.11\n",
      "%0.12\n",
      "%0.13\n",
      "%0.14\n",
      "%0.15\n",
      "%0.16\n",
      "%0.17\n",
      "%0.18\n",
      "%0.19\n",
      "%0.2\n",
      "%0.21\n",
      "%0.22\n",
      "%0.23\n",
      "%0.24\n",
      "%0.25\n",
      "%0.26\n",
      "%0.27\n",
      "%0.28\n",
      "%0.29\n",
      "%0.3\n",
      "%0.31\n",
      "%0.32\n",
      "%0.33\n",
      "%0.34\n",
      "%0.35\n",
      "%0.36\n",
      "%0.37\n",
      "%0.38\n",
      "%0.39\n",
      "%0.4\n",
      "%0.41\n",
      "%0.42\n",
      "%0.43\n",
      "%0.44\n",
      "%0.45\n",
      "%0.46\n",
      "%0.47\n",
      "%0.48\n",
      "%0.49\n",
      "%0.5\n",
      "%0.51\n",
      "%0.52\n",
      "%0.53\n",
      "%0.54\n",
      "%0.55\n",
      "%0.56\n",
      "%0.57\n",
      "%0.58\n",
      "%0.59\n",
      "%0.6\n",
      "%0.61\n",
      "%0.62\n",
      "%0.63\n",
      "%0.64\n",
      "%0.65\n",
      "%0.66\n",
      "%0.67\n",
      "%0.68\n",
      "%0.69\n",
      "%0.7\n",
      "%0.71\n",
      "%0.72\n",
      "%0.73\n",
      "%0.74\n",
      "%0.75\n",
      "%0.76\n",
      "%0.77\n",
      "%0.78\n",
      "%0.79\n",
      "%0.8\n",
      "%0.81\n",
      "%0.82\n",
      "%0.83\n",
      "%0.84\n",
      "%0.85\n",
      "%0.86\n",
      "%0.87\n",
      "%0.88\n",
      "%0.89\n",
      "%0.9\n",
      "%0.91\n",
      "%0.92\n",
      "%0.93\n",
      "%0.94\n",
      "%0.95\n",
      "%0.96\n",
      "%0.97\n",
      "%0.98\n",
      "%0.99\n"
     ]
    }
   ],
   "source": [
    "if __name__ == '__main__' :\n",
    "    out = multiple_run(genetic_config)\n",
    "    print('Average is : {}'.format(out))\n",
    "    Tools.save_to_file('multi_run_' + output_file,out)"
   ]
  }
 ],
 "metadata": {
  "kernelspec": {
   "display_name": "Python 3",
   "language": "python",
   "name": "python3"
  },
  "language_info": {
   "codemirror_mode": {
    "name": "ipython",
    "version": 3
   },
   "file_extension": ".py",
   "mimetype": "text/x-python",
   "name": "python",
   "nbconvert_exporter": "python",
   "pygments_lexer": "ipython3",
   "version": "3.6.5"
  }
 },
 "nbformat": 4,
 "nbformat_minor": 2
}
